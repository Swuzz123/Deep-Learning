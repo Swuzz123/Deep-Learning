{
 "cells": [
  {
   "cell_type": "markdown",
   "metadata": {},
   "source": [
    "### Import Data"
   ]
  },
  {
   "cell_type": "code",
   "execution_count": 1,
   "metadata": {},
   "outputs": [],
   "source": [
    "import numpy as np\n",
    "import pandas as pd\n",
    "import matplotlib.pyplot as plt"
   ]
  },
  {
   "cell_type": "code",
   "execution_count": 2,
   "metadata": {},
   "outputs": [
    {
     "data": {
      "text/html": [
       "<div>\n",
       "<style scoped>\n",
       "    .dataframe tbody tr th:only-of-type {\n",
       "        vertical-align: middle;\n",
       "    }\n",
       "\n",
       "    .dataframe tbody tr th {\n",
       "        vertical-align: top;\n",
       "    }\n",
       "\n",
       "    .dataframe thead th {\n",
       "        text-align: right;\n",
       "    }\n",
       "</style>\n",
       "<table border=\"1\" class=\"dataframe\">\n",
       "  <thead>\n",
       "    <tr style=\"text-align: right;\">\n",
       "      <th></th>\n",
       "      <th>area</th>\n",
       "      <th>bedrooms</th>\n",
       "      <th>price</th>\n",
       "    </tr>\n",
       "  </thead>\n",
       "  <tbody>\n",
       "    <tr>\n",
       "      <th>0</th>\n",
       "      <td>1056</td>\n",
       "      <td>2</td>\n",
       "      <td>39.07</td>\n",
       "    </tr>\n",
       "    <tr>\n",
       "      <th>1</th>\n",
       "      <td>2600</td>\n",
       "      <td>4</td>\n",
       "      <td>120.00</td>\n",
       "    </tr>\n",
       "    <tr>\n",
       "      <th>2</th>\n",
       "      <td>1440</td>\n",
       "      <td>3</td>\n",
       "      <td>62.00</td>\n",
       "    </tr>\n",
       "    <tr>\n",
       "      <th>3</th>\n",
       "      <td>1521</td>\n",
       "      <td>3</td>\n",
       "      <td>75.00</td>\n",
       "    </tr>\n",
       "    <tr>\n",
       "      <th>4</th>\n",
       "      <td>1200</td>\n",
       "      <td>2</td>\n",
       "      <td>51.00</td>\n",
       "    </tr>\n",
       "  </tbody>\n",
       "</table>\n",
       "</div>"
      ],
      "text/plain": [
       "   area  bedrooms   price\n",
       "0  1056         2   39.07\n",
       "1  2600         4  120.00\n",
       "2  1440         3   62.00\n",
       "3  1521         3   75.00\n",
       "4  1200         2   51.00"
      ]
     },
     "execution_count": 2,
     "metadata": {},
     "output_type": "execute_result"
    }
   ],
   "source": [
    "df = pd.read_csv(\"homeprices_banglore.csv\")\n",
    "df.head()"
   ]
  },
  {
   "cell_type": "markdown",
   "metadata": {},
   "source": [
    "Now we have to scail those columns to (0,1) by MinMax Scaler"
   ]
  },
  {
   "cell_type": "code",
   "execution_count": 3,
   "metadata": {},
   "outputs": [],
   "source": [
    "from sklearn import preprocessing\n",
    "\n",
    "sx = preprocessing.MinMaxScaler()\n",
    "sy = preprocessing.MinMaxScaler()\n",
    "\n",
    "# we will scail 2 features \"area\" and \"bedrooms\" into a specific column\n",
    "scail_X = sx.fit_transform(df.drop(\"price\", axis= 1))\n",
    "\n",
    "# we will scail the columns \"price\" into another specific column\n",
    "scail_y = sy.fit_transform(df['price'].values.reshape(df.shape[0], 1))"
   ]
  },
  {
   "cell_type": "code",
   "execution_count": 4,
   "metadata": {},
   "outputs": [
    {
     "data": {
      "text/plain": [
       "(20, 2)"
      ]
     },
     "execution_count": 4,
     "metadata": {},
     "output_type": "execute_result"
    }
   ],
   "source": [
    "scail_X.shape"
   ]
  },
  {
   "cell_type": "code",
   "execution_count": 5,
   "metadata": {},
   "outputs": [
    {
     "data": {
      "text/plain": [
       "(20, 1)"
      ]
     },
     "execution_count": 5,
     "metadata": {},
     "output_type": "execute_result"
    }
   ],
   "source": [
    "scail_y.shape "
   ]
  },
  {
   "cell_type": "markdown",
   "metadata": {},
   "source": [
    "### Implement Mini-Batch Gradient Descent"
   ]
  },
  {
   "cell_type": "code",
   "execution_count": 6,
   "metadata": {},
   "outputs": [],
   "source": [
    "import random"
   ]
  },
  {
   "cell_type": "code",
   "execution_count": 7,
   "metadata": {},
   "outputs": [],
   "source": [
    "def mini_batch_GD(X, y_true, epochs, batch_size, learning_rate = 0.01):\n",
    "    \n",
    "    # Set up batch size\n",
    "    number_of_features = X.shape[1] # số lượng features cụ thể ở đây đang là 2 (area and bedrooms)\n",
    "    weights = np.ones(shape= (number_of_features)) # set trọng số là 1 ma trận (1,2) với giá trị ban đầu là 1\n",
    "    bias = 0 # set bias = 0 vì lúc đầu chưa được tính nên chưa có gì\n",
    "    total_samples = X.shape[0]\n",
    "    \n",
    "    cost_list = []\n",
    "    epoch_list = []\n",
    "    \n",
    "    # Shuffle the data: shuffle the dataset at the beginning of each epoch to ensure randomnes and avoid any potential bias.\n",
    "    for i in range(epochs):\n",
    "        # Shuffle the data at the start of each epoch\n",
    "        random_indices = np.arange(total_samples) # tạo ra 1 mảng random\n",
    "        np.random.shuffle(random_indices) # xáo trộn random\n",
    "        X = X[random_indices] # xáo trộn feature cột X dựa trên ind đã được random ở trên\n",
    "        y_true = y_true[random_indices] # xáo trộn cột y \n",
    "        \n",
    "        \n",
    "        \"\"\"Ở bước này ta sẽ thực hiện mini-batch: mini-batch có nghĩa là nó là vừa bgd và sgd kết hợp với nhau đầu tiên nó sẽ chọn random\n",
    "        giá trị trong tập dữ liệu xong đó nó sẽ chia thành cụm với bước nhảy bằng nhau sau đó là thực hiện bgd ở mỗi batch mà nó đã chia\n",
    "        đều ra \n",
    "        Example: Chúng ta có 100 samples thì cái batch_size ở đây là số bước nhảy ví dụ tôi chọn 10 thì nó sẽ chia 100 samples ra làm 10 phần\n",
    "        bằng nhau sau đó là thực hiện bgd trong mỗi 10 batchs đó và cập nhật weights và bias liên tục. Đó là lí do vì sao nó tối ưu hơn 2 thằng\n",
    "        trước bgd và sgd vì nó là sự kết hợp tính chất của 2 thằng\n",
    "        \"\"\"\n",
    "        # Iterate each mini-batch\n",
    "        for j in range(0, total_samples, batch_size):\n",
    "            # Định nghĩa mini-batch\n",
    "            X_batch = X[j: j+batch_size] #(giá trị chạy từ 0-> bước nhảy đã set)\n",
    "            y_batch = y_true[j: j+batch_size]\n",
    "            \n",
    "            y_pred = np.dot(weights, X_batch.T) + bias # formula của y_pred = weight*x + bias\n",
    "            \n",
    "            w_derivative = -(2/ X_batch.shape[0]) * (X_batch.T * (y_batch - y_pred)) # đạo hàm riêng theo weights\n",
    "            \"\"\"lưu ý: tại sao ở đây mình lại chia cho X_batch.shape[0] là vì nó đã được phân ra mỗi khung nhỏ từ đâu đến đâu như nhau thì mình sẽ tính\n",
    "            đạo hàm riêng cho mỗi ô dữ liệu đó thôi\"\"\"\n",
    "            b_derivative = -(2/ X_batch.shape[0]) * np.sum(y_batch - y_pred) # đạo hàm riêng theo bias\n",
    "            \n",
    "            # Cập nhật trọng số và bias sử dụng gradient\n",
    "            weights = weights - learning_rate * w_derivative\n",
    "            bias = bias - learning_rate * b_derivative\n",
    "            \n",
    "        \n",
    "        # Calculate cost after every epoch and update y_pred all of dataset\n",
    "        y_pred_all = np.dot(weights, X.T) + bias \n",
    "        cost = np.mean(np.square(y_true.flatten() - y_pred_all)) # MSE function\n",
    "        \n",
    "        # Store the cost every 10 epochs\n",
    "        if i%10 == 0:\n",
    "            cost_list.append(cost)\n",
    "            epoch_list.append(i)\n",
    "            \n",
    "    return weights, bias, cost, cost_list, epoch_list"
   ]
  },
  {
   "cell_type": "code",
   "execution_count": 8,
   "metadata": {},
   "outputs": [],
   "source": [
    "w, b, cost, cost_list, epoch_list = mini_batch_GD(scail_X, scail_y.reshape(scail_y.shape[0], 1), 100, 2)"
   ]
  },
  {
   "cell_type": "code",
   "execution_count": 9,
   "metadata": {},
   "outputs": [],
   "source": [
    "w_reshape = np.array([w.reshape(-1)[0], w.reshape(-1)[1]])"
   ]
  },
  {
   "cell_type": "code",
   "execution_count": 10,
   "metadata": {},
   "outputs": [
    {
     "data": {
      "text/plain": [
       "array([0.91915486, 0.04114171])"
      ]
     },
     "execution_count": 10,
     "metadata": {},
     "output_type": "execute_result"
    }
   ],
   "source": [
    "w_reshape"
   ]
  },
  {
   "cell_type": "code",
   "execution_count": 11,
   "metadata": {},
   "outputs": [
    {
     "data": {
      "text/plain": [
       "([0.1311747367652836,\n",
       "  0.023550030671916522,\n",
       "  0.015116163926887648,\n",
       "  0.010424006027181482,\n",
       "  0.007912161520839501,\n",
       "  0.006859285921293817,\n",
       "  0.007136341543772992,\n",
       "  0.008081621667185778,\n",
       "  0.009802367372188866,\n",
       "  0.011936622761444813],\n",
       " [0, 10, 20, 30, 40, 50, 60, 70, 80, 90])"
      ]
     },
     "execution_count": 11,
     "metadata": {},
     "output_type": "execute_result"
    }
   ],
   "source": [
    "cost_list, epoch_list"
   ]
  },
  {
   "cell_type": "code",
   "execution_count": 12,
   "metadata": {},
   "outputs": [],
   "source": [
    "def predict_price(area, bedrooms, w, bias):\n",
    "    scaled_features = sx.transform([[area, bedrooms]]) # scaled_features có kích thước (1, 2)\n",
    "    \n",
    "    # Tính giá trị dự đoán (trên dữ liệu đã chuẩn hóa)\n",
    "    scaled_price = w[0]*scaled_features[0][0] + w[1]*scaled_features[0][1] + bias\n",
    "    \n",
    "    # Đảo ngược quá trình chuẩn hóa để lấy giá trị giá gốc\n",
    "    price = sy.inverse_transform([[scaled_price]])[0][0] # Trả về giá trị gốc của giá nhà\n",
    "    return price"
   ]
  },
  {
   "cell_type": "code",
   "execution_count": 13,
   "metadata": {},
   "outputs": [
    {
     "name": "stderr",
     "output_type": "stream",
     "text": [
      "d:\\Python Download\\Lib\\site-packages\\sklearn\\base.py:493: UserWarning: X does not have valid feature names, but MinMaxScaler was fitted with feature names\n",
      "  warnings.warn(\n"
     ]
    },
    {
     "data": {
      "text/plain": [
       "115.48971542574604"
      ]
     },
     "execution_count": 13,
     "metadata": {},
     "output_type": "execute_result"
    }
   ],
   "source": [
    "predict_price(2785, 4, w_reshape, b)"
   ]
  }
 ],
 "metadata": {
  "kernelspec": {
   "display_name": "Python 3",
   "language": "python",
   "name": "python3"
  },
  "language_info": {
   "codemirror_mode": {
    "name": "ipython",
    "version": 3
   },
   "file_extension": ".py",
   "mimetype": "text/x-python",
   "name": "python",
   "nbconvert_exporter": "python",
   "pygments_lexer": "ipython3",
   "version": "3.10.0"
  }
 },
 "nbformat": 4,
 "nbformat_minor": 2
}
